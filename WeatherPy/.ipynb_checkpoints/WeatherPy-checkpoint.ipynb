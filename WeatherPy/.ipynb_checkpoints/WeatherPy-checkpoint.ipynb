{
 "cells": [
  {
   "cell_type": "markdown",
   "metadata": {},
   "source": [
    "# WeatherPy"
   ]
  },
  {
   "cell_type": "markdown",
   "metadata": {},
   "source": [
    "## Imports"
   ]
  },
  {
   "cell_type": "code",
   "execution_count": null,
   "metadata": {},
   "outputs": [],
   "source": [
    "from citipy import citipy\n",
    "import numpy as np\n",
    "import pandas as pd\n",
    "import json \n",
    "import requests\n",
    "import matplotlib.pyplot as plt"
   ]
  },
  {
   "cell_type": "markdown",
   "metadata": {},
   "source": [
    "## Generate Cities List"
   ]
  },
  {
   "cell_type": "code",
   "execution_count": null,
   "metadata": {},
   "outputs": [],
   "source": [
    "#First want to create my list of 500 lat/lng pairs\n",
    "# assuming best way is to obtain from a dataframe like we did in examples\n",
    "# Lat and Long: in decimal degrees format and range from -90 to 90 for latitude and -180 to 180 for longitude.\n",
    "# so for randomness will need to go through whole range of lats and whole range of longs\n",
    "# also need to make sure they are unique pairs.\n",
    "# could I make massive list and remove duplicates?? or is there a unique random function\n",
    "\n",
    "# don't want integers for lat/long b/c need decimals\n",
    "# numpy.random.uniform(low=0.0, high=1.0, size=None) seems best\n",
    "# everything else only goes b/w 0 and 1"
   ]
  },
  {
   "cell_type": "code",
   "execution_count": null,
   "metadata": {},
   "outputs": [],
   "source": [
    "\n",
    ">>> city = citipy.nearest_city(22.99, 120.21)\n",
    ">>> city\n",
    "<citipy.City instance at 0x1069b6518>\n",
    ">>>\n",
    ">>> city.city_name     # Tainan, my home town\n",
    "'tainan'\n",
    ">>>\n",
    ">>> city.country_code\n",
    "'tw'                  # And the country is surely Taiwan\n",
    "\n",
    "\n",
    "#Randomly select at least 500 unique (non-repeat) cities based on latitude and longitude.\n",
    "#The city data you generate is based on random coordinates as well as different query times; as such, \n",
    "#your outputs will not be an exact match to the provided starter notebook.\n",
    "\n",
    "# what is a query time?\n",
    "# i think it is time taken for requested info to return\n",
    "# so I don't think it is something I need to worry about "
   ]
  }
 ],
 "metadata": {
  "kernelspec": {
   "display_name": "Python [conda env:PythonData] *",
   "language": "python",
   "name": "conda-env-PythonData-py"
  },
  "language_info": {
   "codemirror_mode": {
    "name": "ipython",
    "version": 3
   },
   "file_extension": ".py",
   "mimetype": "text/x-python",
   "name": "python",
   "nbconvert_exporter": "python",
   "pygments_lexer": "ipython3",
   "version": "3.6.10"
  }
 },
 "nbformat": 4,
 "nbformat_minor": 4
}
